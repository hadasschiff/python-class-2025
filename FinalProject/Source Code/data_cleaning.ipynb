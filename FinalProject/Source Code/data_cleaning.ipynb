{
 "cells": [
  {
   "cell_type": "code",
   "execution_count": 3,
   "metadata": {},
   "outputs": [],
   "source": [
    "import pandas as pd"
   ]
  },
  {
   "cell_type": "code",
   "execution_count": 9,
   "metadata": {},
   "outputs": [
    {
     "name": "stdout",
     "output_type": "stream",
     "text": [
      "Missing values per column:\n",
      " SubjectID             0\n",
      "VideoID               0\n",
      "Attention             0\n",
      "Mediation             0\n",
      "Raw                   0\n",
      "Delta                 0\n",
      "Theta                 0\n",
      "Alpha1                0\n",
      "Alpha2                0\n",
      "Beta1                 0\n",
      "Beta2                 0\n",
      "Gamma1                0\n",
      "Gamma2                0\n",
      "predefinedlabel       0\n",
      "user-definedlabeln    0\n",
      "dtype: int64\n",
      "Duplicate rows:\n",
      " Empty DataFrame\n",
      "Columns: [SubjectID, VideoID, Attention, Mediation, Raw, Delta, Theta, Alpha1, Alpha2, Beta1, Beta2, Gamma1, Gamma2, predefinedlabel, user-definedlabeln]\n",
      "Index: []\n"
     ]
    }
   ],
   "source": [
    "file_path = \"./EEG_data.csv\"\n",
    "eeg_data = pd.read_csv(file_path)\n",
    "# Display the first few rows to ensure data was loaded correctly. \n",
    "eeg_data.head()\n",
    "# Check for missing values in any of the columns.\n",
    "print(\"Missing values per column:\\n\", eeg_data.isnull().sum())\n",
    "# Check for dupliacte rows\n",
    "print(\"Duplicate rows:\\n\", eeg_data[eeg_data.duplicated()])\n"
   ]
  },
  {
   "cell_type": "code",
   "execution_count": 13,
   "metadata": {},
   "outputs": [],
   "source": [
    "# We want to see all of the rows relating to the same event together. So we group them by the columns that make them the same event - \n",
    "# 'VideoID', 'SubjectID', 'predefinedlabel', 'user-definedlabeln'. \n",
    "# we will calculate their numerical columns by the average.\n",
    "clean_data = eeg_data.groupby(['VideoID', 'SubjectID', 'predefinedlabel', 'user-definedlabeln']).mean().reset_index()\n",
    "# Display the first few rows of the grouped data\n",
    "clean_data.head()\n",
    "# Saving the data for futre analysing\n",
    "clean_data.to_csv(\"./Clean2_EEG_Data.csv\", index=False)\n",
    "\n"
   ]
  }
 ],
 "metadata": {
  "kernelspec": {
   "display_name": "Python 3",
   "language": "python",
   "name": "python3"
  },
  "language_info": {
   "codemirror_mode": {
    "name": "ipython",
    "version": 3
   },
   "file_extension": ".py",
   "mimetype": "text/x-python",
   "name": "python",
   "nbconvert_exporter": "python",
   "pygments_lexer": "ipython3",
   "version": "3.11.0"
  }
 },
 "nbformat": 4,
 "nbformat_minor": 2
}
